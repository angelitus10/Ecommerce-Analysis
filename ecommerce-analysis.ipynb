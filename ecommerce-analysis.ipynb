{
 "cells": [
  {
   "cell_type": "markdown",
   "metadata": {},
   "source": [
    "The main objective of this exercise is to import the file named \"ecommerce2.csv\", clean unnecessary data (such as NaN, null values, etc.), and analyze the organization of rows and columns to facilitate data querying and future studies related to this file."
   ]
  },
  {
   "cell_type": "code",
   "execution_count": 2,
   "metadata": {},
   "outputs": [],
   "source": [
    "import pandas as pd \n",
    "import seaborn as sns \n",
    "import matplotlib.pyplot as plt\n",
    "from sqlalchemy import engine\n",
    "from pandasql import sqldf"
   ]
  },
  {
   "cell_type": "markdown",
   "metadata": {},
   "source": [
    "I am going to create the following statement to export  this file easely, enabling deeper queries whit SQL in MySQL later on."
   ]
  },
  {
   "cell_type": "code",
   "execution_count": 3,
   "metadata": {},
   "outputs": [],
   "source": [
    "pysqldf=lambda q: sqldf(q,globals())"
   ]
  },
  {
   "cell_type": "code",
   "execution_count": 4,
   "metadata": {},
   "outputs": [
    {
     "name": "stdout",
     "output_type": "stream",
     "text": [
      "                         Transaction_ID    Customer_ID   Product_ID  \\\n",
      "0  8b460852-7c64-46fa-998b-b0976879d082    Customer_65  Product_224   \n",
      "1  418612e7-8744-4ba3-bb0c-105b47e2a968  Customer_1910  Product_584   \n",
      "2  5bc3b98f-cb0c-4b12-947c-df8bbb35a73e  Customer_2306  Product_374   \n",
      "\n",
      "  Transaction_Date  Units_Sold  Discount_Applied  Revenue  Clicks  \\\n",
      "0       2024-10-06         134              0.14   305.54      11   \n",
      "1       2024-10-29         109              0.30  1102.19      15   \n",
      "2       2024-04-04         116              0.04   471.29      16   \n",
      "\n",
      "   Impressions  Conversion_Rate         Category  Region  Ad_CTR  Ad_CPC  \\\n",
      "0           65             0.17      Electronics  Europe  0.0180    0.55   \n",
      "1          201             0.07  Home Appliances    Asia  0.1589    0.40   \n",
      "2          199             0.08             Toys    Asia  0.0596    1.50   \n",
      "\n",
      "   Ad_Spend  \n",
      "0      9.90  \n",
      "1     63.56  \n",
      "2     89.40  \n"
     ]
    }
   ],
   "source": [
    "df=pd.read_csv(\"ecommerce2.csv\")\n",
    "print(df.head(3))"
   ]
  },
  {
   "cell_type": "markdown",
   "metadata": {},
   "source": [
    "Let’s explore in more detail the data type, shape, and key statistics to better understand how we can work with them."
   ]
  },
  {
   "cell_type": "code",
   "execution_count": 5,
   "metadata": {},
   "outputs": [
    {
     "data": {
      "text/plain": [
       "(100000, 15)"
      ]
     },
     "execution_count": 5,
     "metadata": {},
     "output_type": "execute_result"
    }
   ],
   "source": [
    "df.shape"
   ]
  },
  {
   "cell_type": "code",
   "execution_count": 6,
   "metadata": {},
   "outputs": [
    {
     "name": "stdout",
     "output_type": "stream",
     "text": [
      "<class 'pandas.core.frame.DataFrame'>\n",
      "RangeIndex: 100000 entries, 0 to 99999\n",
      "Data columns (total 15 columns):\n",
      " #   Column            Non-Null Count   Dtype  \n",
      "---  ------            --------------   -----  \n",
      " 0   Transaction_ID    100000 non-null  object \n",
      " 1   Customer_ID       100000 non-null  object \n",
      " 2   Product_ID        100000 non-null  object \n",
      " 3   Transaction_Date  100000 non-null  object \n",
      " 4   Units_Sold        100000 non-null  int64  \n",
      " 5   Discount_Applied  100000 non-null  float64\n",
      " 6   Revenue           100000 non-null  float64\n",
      " 7   Clicks            100000 non-null  int64  \n",
      " 8   Impressions       100000 non-null  int64  \n",
      " 9   Conversion_Rate   100000 non-null  float64\n",
      " 10  Category          100000 non-null  object \n",
      " 11  Region            100000 non-null  object \n",
      " 12  Ad_CTR            100000 non-null  float64\n",
      " 13  Ad_CPC            100000 non-null  float64\n",
      " 14  Ad_Spend          100000 non-null  float64\n",
      "dtypes: float64(6), int64(3), object(6)\n",
      "memory usage: 11.4+ MB\n"
     ]
    }
   ],
   "source": [
    "df.info()"
   ]
  },
  {
   "cell_type": "code",
   "execution_count": 7,
   "metadata": {},
   "outputs": [
    {
     "data": {
      "text/html": [
       "<div>\n",
       "<style scoped>\n",
       "    .dataframe tbody tr th:only-of-type {\n",
       "        vertical-align: middle;\n",
       "    }\n",
       "\n",
       "    .dataframe tbody tr th {\n",
       "        vertical-align: top;\n",
       "    }\n",
       "\n",
       "    .dataframe thead th {\n",
       "        text-align: right;\n",
       "    }\n",
       "</style>\n",
       "<table border=\"1\" class=\"dataframe\">\n",
       "  <thead>\n",
       "    <tr style=\"text-align: right;\">\n",
       "      <th></th>\n",
       "      <th>Units_Sold</th>\n",
       "      <th>Discount_Applied</th>\n",
       "      <th>Revenue</th>\n",
       "      <th>Clicks</th>\n",
       "      <th>Impressions</th>\n",
       "      <th>Conversion_Rate</th>\n",
       "      <th>Ad_CTR</th>\n",
       "      <th>Ad_CPC</th>\n",
       "      <th>Ad_Spend</th>\n",
       "    </tr>\n",
       "  </thead>\n",
       "  <tbody>\n",
       "    <tr>\n",
       "      <th>count</th>\n",
       "      <td>100000.000000</td>\n",
       "      <td>100000.000000</td>\n",
       "      <td>100000.000000</td>\n",
       "      <td>100000.000000</td>\n",
       "      <td>100000.000000</td>\n",
       "      <td>100000.000000</td>\n",
       "      <td>100000.000000</td>\n",
       "      <td>100000.000000</td>\n",
       "      <td>100000.000000</td>\n",
       "    </tr>\n",
       "    <tr>\n",
       "      <th>mean</th>\n",
       "      <td>128.328580</td>\n",
       "      <td>0.149871</td>\n",
       "      <td>553.110811</td>\n",
       "      <td>24.539170</td>\n",
       "      <td>254.539060</td>\n",
       "      <td>0.198138</td>\n",
       "      <td>0.104988</td>\n",
       "      <td>1.051250</td>\n",
       "      <td>110.477240</td>\n",
       "    </tr>\n",
       "    <tr>\n",
       "      <th>std</th>\n",
       "      <td>49.679873</td>\n",
       "      <td>0.086692</td>\n",
       "      <td>428.366294</td>\n",
       "      <td>14.412477</td>\n",
       "      <td>141.466606</td>\n",
       "      <td>0.361187</td>\n",
       "      <td>0.054806</td>\n",
       "      <td>0.549252</td>\n",
       "      <td>87.015846</td>\n",
       "    </tr>\n",
       "    <tr>\n",
       "      <th>min</th>\n",
       "      <td>51.000000</td>\n",
       "      <td>0.000000</td>\n",
       "      <td>7.650000</td>\n",
       "      <td>0.000000</td>\n",
       "      <td>10.000000</td>\n",
       "      <td>0.000000</td>\n",
       "      <td>0.010000</td>\n",
       "      <td>0.100000</td>\n",
       "      <td>1.050000</td>\n",
       "    </tr>\n",
       "    <tr>\n",
       "      <th>25%</th>\n",
       "      <td>84.000000</td>\n",
       "      <td>0.070000</td>\n",
       "      <td>221.260000</td>\n",
       "      <td>12.000000</td>\n",
       "      <td>132.000000</td>\n",
       "      <td>0.050000</td>\n",
       "      <td>0.057500</td>\n",
       "      <td>0.580000</td>\n",
       "      <td>38.610000</td>\n",
       "    </tr>\n",
       "    <tr>\n",
       "      <th>50%</th>\n",
       "      <td>127.000000</td>\n",
       "      <td>0.150000</td>\n",
       "      <td>428.155000</td>\n",
       "      <td>25.000000</td>\n",
       "      <td>254.000000</td>\n",
       "      <td>0.100000</td>\n",
       "      <td>0.105200</td>\n",
       "      <td>1.050000</td>\n",
       "      <td>87.240000</td>\n",
       "    </tr>\n",
       "    <tr>\n",
       "      <th>75%</th>\n",
       "      <td>166.000000</td>\n",
       "      <td>0.220000</td>\n",
       "      <td>805.865000</td>\n",
       "      <td>37.000000</td>\n",
       "      <td>377.000000</td>\n",
       "      <td>0.190000</td>\n",
       "      <td>0.152300</td>\n",
       "      <td>1.530000</td>\n",
       "      <td>164.220000</td>\n",
       "    </tr>\n",
       "    <tr>\n",
       "      <th>max</th>\n",
       "      <td>716.000000</td>\n",
       "      <td>0.300000</td>\n",
       "      <td>5704.180000</td>\n",
       "      <td>49.000000</td>\n",
       "      <td>499.000000</td>\n",
       "      <td>4.900000</td>\n",
       "      <td>0.200000</td>\n",
       "      <td>2.000000</td>\n",
       "      <td>399.600000</td>\n",
       "    </tr>\n",
       "  </tbody>\n",
       "</table>\n",
       "</div>"
      ],
      "text/plain": [
       "          Units_Sold  Discount_Applied        Revenue         Clicks  \\\n",
       "count  100000.000000     100000.000000  100000.000000  100000.000000   \n",
       "mean      128.328580          0.149871     553.110811      24.539170   \n",
       "std        49.679873          0.086692     428.366294      14.412477   \n",
       "min        51.000000          0.000000       7.650000       0.000000   \n",
       "25%        84.000000          0.070000     221.260000      12.000000   \n",
       "50%       127.000000          0.150000     428.155000      25.000000   \n",
       "75%       166.000000          0.220000     805.865000      37.000000   \n",
       "max       716.000000          0.300000    5704.180000      49.000000   \n",
       "\n",
       "         Impressions  Conversion_Rate         Ad_CTR         Ad_CPC  \\\n",
       "count  100000.000000    100000.000000  100000.000000  100000.000000   \n",
       "mean      254.539060         0.198138       0.104988       1.051250   \n",
       "std       141.466606         0.361187       0.054806       0.549252   \n",
       "min        10.000000         0.000000       0.010000       0.100000   \n",
       "25%       132.000000         0.050000       0.057500       0.580000   \n",
       "50%       254.000000         0.100000       0.105200       1.050000   \n",
       "75%       377.000000         0.190000       0.152300       1.530000   \n",
       "max       499.000000         4.900000       0.200000       2.000000   \n",
       "\n",
       "            Ad_Spend  \n",
       "count  100000.000000  \n",
       "mean      110.477240  \n",
       "std        87.015846  \n",
       "min         1.050000  \n",
       "25%        38.610000  \n",
       "50%        87.240000  \n",
       "75%       164.220000  \n",
       "max       399.600000  "
      ]
     },
     "execution_count": 7,
     "metadata": {},
     "output_type": "execute_result"
    }
   ],
   "source": [
    "df.describe()"
   ]
  },
  {
   "cell_type": "code",
   "execution_count": 8,
   "metadata": {},
   "outputs": [
    {
     "data": {
      "text/plain": [
       "np.int64(0)"
      ]
     },
     "execution_count": 8,
     "metadata": {},
     "output_type": "execute_result"
    }
   ],
   "source": [
    "df.duplicated().sum()"
   ]
  },
  {
   "cell_type": "markdown",
   "metadata": {},
   "source": [
    "In this case, we don´t have any duplicted values"
   ]
  },
  {
   "cell_type": "markdown",
   "metadata": {},
   "source": [
    "To ensure uninterrupted analysis, let’s confirm that there are no null values using the following statement. "
   ]
  },
  {
   "cell_type": "code",
   "execution_count": 9,
   "metadata": {},
   "outputs": [
    {
     "data": {
      "text/html": [
       "<div>\n",
       "<style scoped>\n",
       "    .dataframe tbody tr th:only-of-type {\n",
       "        vertical-align: middle;\n",
       "    }\n",
       "\n",
       "    .dataframe tbody tr th {\n",
       "        vertical-align: top;\n",
       "    }\n",
       "\n",
       "    .dataframe thead th {\n",
       "        text-align: right;\n",
       "    }\n",
       "</style>\n",
       "<table border=\"1\" class=\"dataframe\">\n",
       "  <thead>\n",
       "    <tr style=\"text-align: right;\">\n",
       "      <th></th>\n",
       "      <th>Transaction_ID</th>\n",
       "      <th>Customer_ID</th>\n",
       "      <th>Product_ID</th>\n",
       "      <th>Transaction_Date</th>\n",
       "      <th>Units_Sold</th>\n",
       "      <th>Discount_Applied</th>\n",
       "      <th>Revenue</th>\n",
       "      <th>Clicks</th>\n",
       "      <th>Impressions</th>\n",
       "      <th>Conversion_Rate</th>\n",
       "      <th>Category</th>\n",
       "      <th>Region</th>\n",
       "      <th>Ad_CTR</th>\n",
       "      <th>Ad_CPC</th>\n",
       "      <th>Ad_Spend</th>\n",
       "    </tr>\n",
       "  </thead>\n",
       "  <tbody>\n",
       "    <tr>\n",
       "      <th>0</th>\n",
       "      <td>8b460852-7c64-46fa-998b-b0976879d082</td>\n",
       "      <td>Customer_65</td>\n",
       "      <td>Product_224</td>\n",
       "      <td>2024-10-06</td>\n",
       "      <td>134</td>\n",
       "      <td>0.14</td>\n",
       "      <td>305.54</td>\n",
       "      <td>11</td>\n",
       "      <td>65</td>\n",
       "      <td>0.17</td>\n",
       "      <td>Electronics</td>\n",
       "      <td>Europe</td>\n",
       "      <td>0.0180</td>\n",
       "      <td>0.55</td>\n",
       "      <td>9.90</td>\n",
       "    </tr>\n",
       "    <tr>\n",
       "      <th>1</th>\n",
       "      <td>418612e7-8744-4ba3-bb0c-105b47e2a968</td>\n",
       "      <td>Customer_1910</td>\n",
       "      <td>Product_584</td>\n",
       "      <td>2024-10-29</td>\n",
       "      <td>109</td>\n",
       "      <td>0.30</td>\n",
       "      <td>1102.19</td>\n",
       "      <td>15</td>\n",
       "      <td>201</td>\n",
       "      <td>0.07</td>\n",
       "      <td>Home Appliances</td>\n",
       "      <td>Asia</td>\n",
       "      <td>0.1589</td>\n",
       "      <td>0.40</td>\n",
       "      <td>63.56</td>\n",
       "    </tr>\n",
       "    <tr>\n",
       "      <th>2</th>\n",
       "      <td>5bc3b98f-cb0c-4b12-947c-df8bbb35a73e</td>\n",
       "      <td>Customer_2306</td>\n",
       "      <td>Product_374</td>\n",
       "      <td>2024-04-04</td>\n",
       "      <td>116</td>\n",
       "      <td>0.04</td>\n",
       "      <td>471.29</td>\n",
       "      <td>16</td>\n",
       "      <td>199</td>\n",
       "      <td>0.08</td>\n",
       "      <td>Toys</td>\n",
       "      <td>Asia</td>\n",
       "      <td>0.0596</td>\n",
       "      <td>1.50</td>\n",
       "      <td>89.40</td>\n",
       "    </tr>\n",
       "    <tr>\n",
       "      <th>3</th>\n",
       "      <td>28fb67c8-e8c0-447a-841c-f760730de0eb</td>\n",
       "      <td>Customer_17206</td>\n",
       "      <td>Product_220</td>\n",
       "      <td>2024-08-25</td>\n",
       "      <td>125</td>\n",
       "      <td>0.20</td>\n",
       "      <td>980.26</td>\n",
       "      <td>12</td>\n",
       "      <td>355</td>\n",
       "      <td>0.03</td>\n",
       "      <td>Clothing</td>\n",
       "      <td>Europe</td>\n",
       "      <td>0.0444</td>\n",
       "      <td>0.44</td>\n",
       "      <td>19.54</td>\n",
       "    </tr>\n",
       "    <tr>\n",
       "      <th>4</th>\n",
       "      <td>8bee087a-a8a9-45bb-89d7-04d1710f1b00</td>\n",
       "      <td>Customer_16033</td>\n",
       "      <td>Product_358</td>\n",
       "      <td>2024-05-05</td>\n",
       "      <td>132</td>\n",
       "      <td>0.07</td>\n",
       "      <td>803.76</td>\n",
       "      <td>44</td>\n",
       "      <td>355</td>\n",
       "      <td>0.12</td>\n",
       "      <td>Books</td>\n",
       "      <td>North America</td>\n",
       "      <td>0.1270</td>\n",
       "      <td>0.53</td>\n",
       "      <td>67.31</td>\n",
       "    </tr>\n",
       "    <tr>\n",
       "      <th>...</th>\n",
       "      <td>...</td>\n",
       "      <td>...</td>\n",
       "      <td>...</td>\n",
       "      <td>...</td>\n",
       "      <td>...</td>\n",
       "      <td>...</td>\n",
       "      <td>...</td>\n",
       "      <td>...</td>\n",
       "      <td>...</td>\n",
       "      <td>...</td>\n",
       "      <td>...</td>\n",
       "      <td>...</td>\n",
       "      <td>...</td>\n",
       "      <td>...</td>\n",
       "      <td>...</td>\n",
       "    </tr>\n",
       "    <tr>\n",
       "      <th>99995</th>\n",
       "      <td>90320769-c92d-4142-b112-4bac46d44007</td>\n",
       "      <td>Customer_2613</td>\n",
       "      <td>Product_472</td>\n",
       "      <td>2024-04-21</td>\n",
       "      <td>179</td>\n",
       "      <td>0.11</td>\n",
       "      <td>255.11</td>\n",
       "      <td>41</td>\n",
       "      <td>428</td>\n",
       "      <td>0.10</td>\n",
       "      <td>Electronics</td>\n",
       "      <td>Europe</td>\n",
       "      <td>0.1073</td>\n",
       "      <td>1.48</td>\n",
       "      <td>158.80</td>\n",
       "    </tr>\n",
       "    <tr>\n",
       "      <th>99996</th>\n",
       "      <td>e91a3cfa-bd5b-475a-825d-6efe939ff974</td>\n",
       "      <td>Customer_19127</td>\n",
       "      <td>Product_787</td>\n",
       "      <td>2024-09-17</td>\n",
       "      <td>178</td>\n",
       "      <td>0.12</td>\n",
       "      <td>1302.60</td>\n",
       "      <td>6</td>\n",
       "      <td>363</td>\n",
       "      <td>0.02</td>\n",
       "      <td>Books</td>\n",
       "      <td>North America</td>\n",
       "      <td>0.1164</td>\n",
       "      <td>0.36</td>\n",
       "      <td>41.90</td>\n",
       "    </tr>\n",
       "    <tr>\n",
       "      <th>99997</th>\n",
       "      <td>b0e10e62-e7c4-4092-876a-12abc9ebe3e8</td>\n",
       "      <td>Customer_4685</td>\n",
       "      <td>Product_745</td>\n",
       "      <td>2024-10-23</td>\n",
       "      <td>212</td>\n",
       "      <td>0.26</td>\n",
       "      <td>491.36</td>\n",
       "      <td>5</td>\n",
       "      <td>419</td>\n",
       "      <td>0.01</td>\n",
       "      <td>Electronics</td>\n",
       "      <td>North America</td>\n",
       "      <td>0.1235</td>\n",
       "      <td>0.20</td>\n",
       "      <td>24.70</td>\n",
       "    </tr>\n",
       "    <tr>\n",
       "      <th>99998</th>\n",
       "      <td>97980811-e107-4369-888c-31cd8763471f</td>\n",
       "      <td>Customer_16377</td>\n",
       "      <td>Product_39</td>\n",
       "      <td>2024-01-03</td>\n",
       "      <td>180</td>\n",
       "      <td>0.09</td>\n",
       "      <td>598.91</td>\n",
       "      <td>41</td>\n",
       "      <td>12</td>\n",
       "      <td>3.42</td>\n",
       "      <td>Electronics</td>\n",
       "      <td>Europe</td>\n",
       "      <td>0.1566</td>\n",
       "      <td>0.96</td>\n",
       "      <td>150.34</td>\n",
       "    </tr>\n",
       "    <tr>\n",
       "      <th>99999</th>\n",
       "      <td>52f15362-a573-4060-8f70-462f82adda92</td>\n",
       "      <td>Customer_14281</td>\n",
       "      <td>Product_223</td>\n",
       "      <td>2024-07-12</td>\n",
       "      <td>157</td>\n",
       "      <td>0.20</td>\n",
       "      <td>208.27</td>\n",
       "      <td>34</td>\n",
       "      <td>334</td>\n",
       "      <td>0.10</td>\n",
       "      <td>Toys</td>\n",
       "      <td>Asia</td>\n",
       "      <td>0.0926</td>\n",
       "      <td>0.61</td>\n",
       "      <td>56.49</td>\n",
       "    </tr>\n",
       "  </tbody>\n",
       "</table>\n",
       "<p>100000 rows × 15 columns</p>\n",
       "</div>"
      ],
      "text/plain": [
       "                             Transaction_ID     Customer_ID   Product_ID  \\\n",
       "0      8b460852-7c64-46fa-998b-b0976879d082     Customer_65  Product_224   \n",
       "1      418612e7-8744-4ba3-bb0c-105b47e2a968   Customer_1910  Product_584   \n",
       "2      5bc3b98f-cb0c-4b12-947c-df8bbb35a73e   Customer_2306  Product_374   \n",
       "3      28fb67c8-e8c0-447a-841c-f760730de0eb  Customer_17206  Product_220   \n",
       "4      8bee087a-a8a9-45bb-89d7-04d1710f1b00  Customer_16033  Product_358   \n",
       "...                                     ...             ...          ...   \n",
       "99995  90320769-c92d-4142-b112-4bac46d44007   Customer_2613  Product_472   \n",
       "99996  e91a3cfa-bd5b-475a-825d-6efe939ff974  Customer_19127  Product_787   \n",
       "99997  b0e10e62-e7c4-4092-876a-12abc9ebe3e8   Customer_4685  Product_745   \n",
       "99998  97980811-e107-4369-888c-31cd8763471f  Customer_16377   Product_39   \n",
       "99999  52f15362-a573-4060-8f70-462f82adda92  Customer_14281  Product_223   \n",
       "\n",
       "      Transaction_Date  Units_Sold  Discount_Applied  Revenue  Clicks  \\\n",
       "0           2024-10-06         134              0.14   305.54      11   \n",
       "1           2024-10-29         109              0.30  1102.19      15   \n",
       "2           2024-04-04         116              0.04   471.29      16   \n",
       "3           2024-08-25         125              0.20   980.26      12   \n",
       "4           2024-05-05         132              0.07   803.76      44   \n",
       "...                ...         ...               ...      ...     ...   \n",
       "99995       2024-04-21         179              0.11   255.11      41   \n",
       "99996       2024-09-17         178              0.12  1302.60       6   \n",
       "99997       2024-10-23         212              0.26   491.36       5   \n",
       "99998       2024-01-03         180              0.09   598.91      41   \n",
       "99999       2024-07-12         157              0.20   208.27      34   \n",
       "\n",
       "       Impressions  Conversion_Rate         Category         Region  Ad_CTR  \\\n",
       "0               65             0.17      Electronics         Europe  0.0180   \n",
       "1              201             0.07  Home Appliances           Asia  0.1589   \n",
       "2              199             0.08             Toys           Asia  0.0596   \n",
       "3              355             0.03         Clothing         Europe  0.0444   \n",
       "4              355             0.12            Books  North America  0.1270   \n",
       "...            ...              ...              ...            ...     ...   \n",
       "99995          428             0.10      Electronics         Europe  0.1073   \n",
       "99996          363             0.02            Books  North America  0.1164   \n",
       "99997          419             0.01      Electronics  North America  0.1235   \n",
       "99998           12             3.42      Electronics         Europe  0.1566   \n",
       "99999          334             0.10             Toys           Asia  0.0926   \n",
       "\n",
       "       Ad_CPC  Ad_Spend  \n",
       "0        0.55      9.90  \n",
       "1        0.40     63.56  \n",
       "2        1.50     89.40  \n",
       "3        0.44     19.54  \n",
       "4        0.53     67.31  \n",
       "...       ...       ...  \n",
       "99995    1.48    158.80  \n",
       "99996    0.36     41.90  \n",
       "99997    0.20     24.70  \n",
       "99998    0.96    150.34  \n",
       "99999    0.61     56.49  \n",
       "\n",
       "[100000 rows x 15 columns]"
      ]
     },
     "execution_count": 9,
     "metadata": {},
     "output_type": "execute_result"
    }
   ],
   "source": [
    "df.dropna()\n"
   ]
  },
  {
   "cell_type": "markdown",
   "metadata": {},
   "source": [
    "As we can see, the number of rows and columns matches the original table, confirming that all values are valid. (100000 rows x 15 columns)"
   ]
  },
  {
   "cell_type": "code",
   "execution_count": 10,
   "metadata": {},
   "outputs": [],
   "source": [
    "df=df.dropna(subset=[\"Customer_ID\"])"
   ]
  },
  {
   "cell_type": "code",
   "execution_count": 11,
   "metadata": {},
   "outputs": [
    {
     "data": {
      "text/html": [
       "<div>\n",
       "<style scoped>\n",
       "    .dataframe tbody tr th:only-of-type {\n",
       "        vertical-align: middle;\n",
       "    }\n",
       "\n",
       "    .dataframe tbody tr th {\n",
       "        vertical-align: top;\n",
       "    }\n",
       "\n",
       "    .dataframe thead th {\n",
       "        text-align: right;\n",
       "    }\n",
       "</style>\n",
       "<table border=\"1\" class=\"dataframe\">\n",
       "  <thead>\n",
       "    <tr style=\"text-align: right;\">\n",
       "      <th></th>\n",
       "      <th>Transaction_ID</th>\n",
       "      <th>Customer_ID</th>\n",
       "      <th>Product_ID</th>\n",
       "      <th>Transaction_Date</th>\n",
       "      <th>Units_Sold</th>\n",
       "      <th>Discount_Applied</th>\n",
       "      <th>Revenue</th>\n",
       "      <th>Clicks</th>\n",
       "      <th>Impressions</th>\n",
       "      <th>Conversion_Rate</th>\n",
       "      <th>Category</th>\n",
       "      <th>Region</th>\n",
       "      <th>Ad_CTR</th>\n",
       "      <th>Ad_CPC</th>\n",
       "      <th>Ad_Spend</th>\n",
       "    </tr>\n",
       "  </thead>\n",
       "  <tbody>\n",
       "    <tr>\n",
       "      <th>0</th>\n",
       "      <td>8b460852-7c64-46fa-998b-b0976879d082</td>\n",
       "      <td>Customer_65</td>\n",
       "      <td>Product_224</td>\n",
       "      <td>2024-10-06</td>\n",
       "      <td>134</td>\n",
       "      <td>0.14</td>\n",
       "      <td>305.54</td>\n",
       "      <td>11</td>\n",
       "      <td>65</td>\n",
       "      <td>0.17</td>\n",
       "      <td>Electronics</td>\n",
       "      <td>Europe</td>\n",
       "      <td>0.0180</td>\n",
       "      <td>0.55</td>\n",
       "      <td>9.90</td>\n",
       "    </tr>\n",
       "    <tr>\n",
       "      <th>1</th>\n",
       "      <td>418612e7-8744-4ba3-bb0c-105b47e2a968</td>\n",
       "      <td>Customer_1910</td>\n",
       "      <td>Product_584</td>\n",
       "      <td>2024-10-29</td>\n",
       "      <td>109</td>\n",
       "      <td>0.30</td>\n",
       "      <td>1102.19</td>\n",
       "      <td>15</td>\n",
       "      <td>201</td>\n",
       "      <td>0.07</td>\n",
       "      <td>Home Appliances</td>\n",
       "      <td>Asia</td>\n",
       "      <td>0.1589</td>\n",
       "      <td>0.40</td>\n",
       "      <td>63.56</td>\n",
       "    </tr>\n",
       "    <tr>\n",
       "      <th>2</th>\n",
       "      <td>5bc3b98f-cb0c-4b12-947c-df8bbb35a73e</td>\n",
       "      <td>Customer_2306</td>\n",
       "      <td>Product_374</td>\n",
       "      <td>2024-04-04</td>\n",
       "      <td>116</td>\n",
       "      <td>0.04</td>\n",
       "      <td>471.29</td>\n",
       "      <td>16</td>\n",
       "      <td>199</td>\n",
       "      <td>0.08</td>\n",
       "      <td>Toys</td>\n",
       "      <td>Asia</td>\n",
       "      <td>0.0596</td>\n",
       "      <td>1.50</td>\n",
       "      <td>89.40</td>\n",
       "    </tr>\n",
       "    <tr>\n",
       "      <th>3</th>\n",
       "      <td>28fb67c8-e8c0-447a-841c-f760730de0eb</td>\n",
       "      <td>Customer_17206</td>\n",
       "      <td>Product_220</td>\n",
       "      <td>2024-08-25</td>\n",
       "      <td>125</td>\n",
       "      <td>0.20</td>\n",
       "      <td>980.26</td>\n",
       "      <td>12</td>\n",
       "      <td>355</td>\n",
       "      <td>0.03</td>\n",
       "      <td>Clothing</td>\n",
       "      <td>Europe</td>\n",
       "      <td>0.0444</td>\n",
       "      <td>0.44</td>\n",
       "      <td>19.54</td>\n",
       "    </tr>\n",
       "    <tr>\n",
       "      <th>4</th>\n",
       "      <td>8bee087a-a8a9-45bb-89d7-04d1710f1b00</td>\n",
       "      <td>Customer_16033</td>\n",
       "      <td>Product_358</td>\n",
       "      <td>2024-05-05</td>\n",
       "      <td>132</td>\n",
       "      <td>0.07</td>\n",
       "      <td>803.76</td>\n",
       "      <td>44</td>\n",
       "      <td>355</td>\n",
       "      <td>0.12</td>\n",
       "      <td>Books</td>\n",
       "      <td>North America</td>\n",
       "      <td>0.1270</td>\n",
       "      <td>0.53</td>\n",
       "      <td>67.31</td>\n",
       "    </tr>\n",
       "  </tbody>\n",
       "</table>\n",
       "</div>"
      ],
      "text/plain": [
       "                         Transaction_ID     Customer_ID   Product_ID  \\\n",
       "0  8b460852-7c64-46fa-998b-b0976879d082     Customer_65  Product_224   \n",
       "1  418612e7-8744-4ba3-bb0c-105b47e2a968   Customer_1910  Product_584   \n",
       "2  5bc3b98f-cb0c-4b12-947c-df8bbb35a73e   Customer_2306  Product_374   \n",
       "3  28fb67c8-e8c0-447a-841c-f760730de0eb  Customer_17206  Product_220   \n",
       "4  8bee087a-a8a9-45bb-89d7-04d1710f1b00  Customer_16033  Product_358   \n",
       "\n",
       "  Transaction_Date  Units_Sold  Discount_Applied  Revenue  Clicks  \\\n",
       "0       2024-10-06         134              0.14   305.54      11   \n",
       "1       2024-10-29         109              0.30  1102.19      15   \n",
       "2       2024-04-04         116              0.04   471.29      16   \n",
       "3       2024-08-25         125              0.20   980.26      12   \n",
       "4       2024-05-05         132              0.07   803.76      44   \n",
       "\n",
       "   Impressions  Conversion_Rate         Category         Region  Ad_CTR  \\\n",
       "0           65             0.17      Electronics         Europe  0.0180   \n",
       "1          201             0.07  Home Appliances           Asia  0.1589   \n",
       "2          199             0.08             Toys           Asia  0.0596   \n",
       "3          355             0.03         Clothing         Europe  0.0444   \n",
       "4          355             0.12            Books  North America  0.1270   \n",
       "\n",
       "   Ad_CPC  Ad_Spend  \n",
       "0    0.55      9.90  \n",
       "1    0.40     63.56  \n",
       "2    1.50     89.40  \n",
       "3    0.44     19.54  \n",
       "4    0.53     67.31  "
      ]
     },
     "execution_count": 11,
     "metadata": {},
     "output_type": "execute_result"
    }
   ],
   "source": [
    "df.head(5)"
   ]
  },
  {
   "cell_type": "markdown",
   "metadata": {},
   "source": [
    "One question we could ask is: which region has the highest sales for this business?"
   ]
  },
  {
   "cell_type": "code",
   "execution_count": 12,
   "metadata": {},
   "outputs": [
    {
     "name": "stdout",
     "output_type": "stream",
     "text": [
      "          Region  Units_Sold\n",
      "0           Asia     3789836\n",
      "1         Europe     4150933\n",
      "2  North America     4892089\n"
     ]
    }
   ],
   "source": [
    "sales_by_country=df.groupby(\"Region\")[\"Units_Sold\"].sum().reset_index()\n",
    "print(sales_by_country)"
   ]
  },
  {
   "cell_type": "markdown",
   "metadata": {},
   "source": [
    "Also what is the volume per category for each one?"
   ]
  },
  {
   "cell_type": "code",
   "execution_count": 13,
   "metadata": {},
   "outputs": [
    {
     "name": "stdout",
     "output_type": "stream",
     "text": [
      "          Category  Units_Sold\n",
      "0            Books     2219356\n",
      "1         Clothing     2471409\n",
      "2      Electronics     3001900\n",
      "3  Home Appliances     2370894\n",
      "4             Toys     2769299\n"
     ]
    }
   ],
   "source": [
    "voloum_per_category=df.groupby(\"Category\")[\"Units_Sold\"].sum().reset_index()\n",
    "print(voloum_per_category)"
   ]
  },
  {
   "cell_type": "markdown",
   "metadata": {},
   "source": [
    "In the same way, we want check what is the revenue for each category"
   ]
  },
  {
   "cell_type": "code",
   "execution_count": 14,
   "metadata": {},
   "outputs": [
    {
     "name": "stdout",
     "output_type": "stream",
     "text": [
      "          Category    Revenue\n",
      "0            Books  11.195312\n",
      "1         Clothing  11.034899\n",
      "2      Electronics  11.326820\n",
      "3  Home Appliances  10.559207\n",
      "4             Toys  11.194842\n"
     ]
    }
   ],
   "source": [
    "revenue_per_category=(df.groupby(\"Category\")[\"Revenue\"].sum()/1e6).reset_index()\n",
    "print(revenue_per_category)"
   ]
  },
  {
   "cell_type": "code",
   "execution_count": 15,
   "metadata": {},
   "outputs": [
    {
     "data": {
      "image/png": "[encoded data removed]",
      "text/plain": [
       "<Figure size 700x500 with 1 Axes>"
      ]
     },
     "metadata": {},
     "output_type": "display_data"
    }
   ],
   "source": [
    "plt.figure(figsize=(7,5))\n",
    "sns.barplot(x=\"Category\",y=\"Revenue\",data=revenue_per_category,color=\"orange\")\n",
    "plt.title(\"Revenue per Category\")\n",
    "plt.xlabel(\"Category\")\n",
    "plt.ylabel(\"Revenue (Million)\")\n",
    "plt.show()\n"
   ]
  },
  {
   "cell_type": "code",
   "execution_count": 16,
   "metadata": {},
   "outputs": [
    {
     "data": {
      "image/png": "[encoded data removed]",
      "text/plain": [
       "<Figure size 700x500 with 1 Axes>"
      ]
     },
     "metadata": {},
     "output_type": "display_data"
    }
   ],
   "source": [
    "plt.figure(figsize=(7,5))\n",
    "sns.barplot(x=\"Category\",y=\"Units_Sold\",data=voloum_per_category,color=\"orange\")\n",
    "plt.title(\"Sales per category\")\n",
    "plt.xlabel(\"Category\")\n",
    "plt.ylabel(\"Units (Million)\")\n",
    "plt.show()"
   ]
  },
  {
   "cell_type": "markdown",
   "metadata": {},
   "source": [
    "Which region has the highest CTR (Click-Through Rate) in campaigns?"
   ]
  },
  {
   "cell_type": "code",
   "execution_count": 17,
   "metadata": {},
   "outputs": [
    {
     "name": "stdout",
     "output_type": "stream",
     "text": [
      "          Region     Ad_CTR\n",
      "0           Asia  3508.5728\n",
      "1         Europe  3483.3503\n",
      "2  North America  3506.8496\n"
     ]
    }
   ],
   "source": [
    "ctr_per_region=df.groupby(\"Region\")[\"Ad_CTR\"].sum().reset_index()\n",
    "print(ctr_per_region)"
   ]
  },
  {
   "cell_type": "markdown",
   "metadata": {},
   "source": [
    "Are there monthly trends in sales or revenue?"
   ]
  },
  {
   "cell_type": "code",
   "execution_count": 18,
   "metadata": {},
   "outputs": [],
   "source": [
    "df[\"Transaction_Date\"]=pd.to_datetime(df[\"Transaction_Date\"])\n",
    "df[\"Month\"]=df[\"Transaction_Date\"].dt.month"
   ]
  },
  {
   "cell_type": "code",
   "execution_count": 19,
   "metadata": {},
   "outputs": [
    {
     "name": "stdout",
     "output_type": "stream",
     "text": [
      "    Month     Revenue\n",
      "0       1  4665609.02\n",
      "1       2  4312157.04\n",
      "2       3  4705422.31\n",
      "3       4  4406829.73\n",
      "4       5  4645304.43\n",
      "5       6  4614620.94\n",
      "6       7  4572138.90\n",
      "7       8  4579761.33\n",
      "8       9  4551504.34\n",
      "9      10  4771718.89\n",
      "10     11  4828945.03\n",
      "11     12  4657069.11\n"
     ]
    }
   ],
   "source": [
    "monthly_revenue=df.groupby(\"Month\")[\"Revenue\"].sum().reset_index()\n",
    "print(monthly_revenue)"
   ]
  },
  {
   "cell_type": "code",
   "execution_count": 20,
   "metadata": {},
   "outputs": [
    {
     "data": {
      "image/png": "[encoded data removed]",
      "text/plain": [
       "<Figure size 600x400 with 1 Axes>"
      ]
     },
     "metadata": {},
     "output_type": "display_data"
    }
   ],
   "source": [
    "plt.figure(figsize=(6, 4))\n",
    "plt.plot(monthly_revenue.index,monthly_revenue.values, marker=\"o\", color=\"blue\")\n",
    "\n",
    "# Etiquetas y título\n",
    "plt.title(\"Monthly Revenue Trend\")\n",
    "plt.xlabel(\"Month\")\n",
    "plt.ylabel(\"Revenue\")\n",
    "plt.xticks(range(1, 13))  \n",
    "plt.grid(True)\n",
    "plt.show()"
   ]
  },
  {
   "cell_type": "markdown",
   "metadata": {},
   "source": [
    "The marketing department wants to know the average conversion rate of each category, to know which ones they need to improve on."
   ]
  },
  {
   "cell_type": "code",
   "execution_count": 21,
   "metadata": {},
   "outputs": [
    {
     "name": "stdout",
     "output_type": "stream",
     "text": [
      "          Category  Conversion_Rate\n",
      "0            Books         0.198009\n",
      "1         Clothing         0.197566\n",
      "2      Electronics         0.199594\n",
      "3  Home Appliances         0.200063\n",
      "4             Toys         0.195477\n"
     ]
    }
   ],
   "source": [
    "conversion_rate_category=df.groupby(\"Category\")[\"Conversion_Rate\"].mean().reset_index()\n",
    "print(conversion_rate_category)"
   ]
  },
  {
   "cell_type": "markdown",
   "metadata": {},
   "source": [
    "Now it’s time to examine the relationships between the data and identify which data makes sense to study."
   ]
  },
  {
   "cell_type": "code",
   "execution_count": 22,
   "metadata": {},
   "outputs": [
    {
     "name": "stdout",
     "output_type": "stream",
     "text": [
      "                  Units_Sold  Discount_Applied   Revenue    Clicks  \\\n",
      "Units_Sold          1.000000         -0.000895  0.044226  0.003540   \n",
      "Discount_Applied   -0.000895          1.000000 -0.129227 -0.002911   \n",
      "Revenue             0.044226         -0.129227  1.000000  0.005784   \n",
      "Clicks              0.003540         -0.002911  0.005784  1.000000   \n",
      "Impressions         0.001255         -0.003697  0.004750  0.002034   \n",
      "Conversion_Rate     0.000653          0.001598 -0.002019  0.321004   \n",
      "\n",
      "                  Impressions  Conversion_Rate  \n",
      "Units_Sold           0.001255         0.000653  \n",
      "Discount_Applied    -0.003697         0.001598  \n",
      "Revenue              0.004750        -0.002019  \n",
      "Clicks               0.002034         0.321004  \n",
      "Impressions          1.000000        -0.507006  \n",
      "Conversion_Rate     -0.507006         1.000000  \n"
     ]
    }
   ],
   "source": [
    "correlation=df[[\"Units_Sold\",\"Discount_Applied\",\"Revenue\",\"Clicks\",\"Impressions\",\"Conversion_Rate\"]].corr()\n",
    "print(correlation)"
   ]
  },
  {
   "cell_type": "code",
   "execution_count": 23,
   "metadata": {},
   "outputs": [
    {
     "data": {
      "image/png": "[encoded data removed]",
      "text/plain": [
       "<Figure size 500x300 with 2 Axes>"
      ]
     },
     "metadata": {},
     "output_type": "display_data"
    }
   ],
   "source": [
    "plt.figure(figsize=(5,3))\n",
    "sns.heatmap(correlation,annot=True,cmap=\"coolwarm\",fmt='.2f')\n",
    "plt.title(\"Correlation-Data\")\n",
    "plt.show()"
   ]
  },
  {
   "cell_type": "markdown",
   "metadata": {},
   "source": [
    "As we can see, there is a slight relationship between clicks and conversion_rate, and the heatmap also shows \n",
    "that as impressions increase, conversion_rate decreases."
   ]
  },
  {
   "cell_type": "markdown",
   "metadata": {},
   "source": [
    "Finally let´s add a line to export the relevant columns that late we are goin to work with in SQL."
   ]
  },
  {
   "cell_type": "code",
   "execution_count": 24,
   "metadata": {},
   "outputs": [],
   "source": [
    "q='''\n",
    "Select\n",
    "Product_ID,\n",
    "Units_Sold,\n",
    "Category,\n",
    "Region\n",
    "from df\n",
    "where region = \"Asia\"\n",
    "'''\n",
    "df_export=pysqldf(q)"
   ]
  },
  {
   "cell_type": "markdown",
   "metadata": {},
   "source": [
    "As a result, we now have the updated file ready to work with, containing all the changes we made in the lines above."
   ]
  },
  {
   "cell_type": "code",
   "execution_count": 25,
   "metadata": {},
   "outputs": [],
   "source": [
    "df_export.to_csv(\"Ecommerce2-update.csv\")"
   ]
  },
  {
   "cell_type": "markdown",
   "metadata": {},
   "source": []
  }
 ],
 "metadata": {
  "kernelspec": {
   "display_name": ".venv",
   "language": "python",
   "name": "python3"
  },
  "language_info": {
   "codemirror_mode": {
    "name": "ipython",
    "version": 3
   },
   "file_extension": ".py",
   "mimetype": "text/x-python",
   "name": "python",
   "nbconvert_exporter": "python",
   "pygments_lexer": "ipython3",
   "version": "3.12.6"
  }
 },
 "nbformat": 4,
 "nbformat_minor": 2
}
